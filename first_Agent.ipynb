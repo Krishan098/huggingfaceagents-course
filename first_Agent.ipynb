{
 "cells": [
  {
   "cell_type": "markdown",
   "id": "6feaf7e0",
   "metadata": {},
   "source": [
    "# smolagents\n",
    "\n",
    "- It is a library that focuses on *codeAgent*, a kind of agent that performs *\"Actions\"* through code blocks, and then *\"Observes\"* results by executing the code.\n"
   ]
  },
  {
   "cell_type": "code",
   "execution_count": 2,
   "id": "92170c26",
   "metadata": {},
   "outputs": [],
   "source": [
    "from smolagents import CodeAgent, DuckDuckGoSearchTool, FinalAnswerTool, InferenceClientModel, load_tool, tool\n",
    "import datetime\n",
    "import requests\n",
    "import pytz\n",
    "import yaml"
   ]
  },
  {
   "cell_type": "markdown",
   "id": "42b41cdc",
   "metadata": {},
   "source": [
    "* To define our tool we need to:\n",
    "- provide input and output types for our function.\n",
    "- A well formatted docstring. "
   ]
  },
  {
   "cell_type": "code",
   "execution_count": 5,
   "id": "634cf7a5",
   "metadata": {},
   "outputs": [],
   "source": [
    "@tool\n",
    "def my_custom_tool(arg1: str, arg2:int)->str: # it's important to specify the return type\n",
    "    # keep this format for the tool description/args description but feel free to modify the tool\n",
    "    \"\"\"A tool that does nothing yet\n",
    "    Args:\n",
    "        arg1: the first argument\n",
    "        arg2: the second argument\n",
    "    \"\"\"\n",
    "    return \"What magic will you build ?\"\n",
    "@tool\n",
    "def get_current_time_in_timezone(timezone: str)-> str:\n",
    "    \"\"\"A tool that fetches the current local time in a specified timezone.\n",
    "    Args:\n",
    "        timezone: A string representing a valid timezone.\n",
    "    \"\"\"\n",
    "    try:\n",
    "        #timezone object\n",
    "        tz=pytz.timezone(timezone)\n",
    "        # Get current time in that timezone\n",
    "        local_time=datetime.datetime.now(tz).strftime(\"%Y-%m-%d %H:%M:%S\")\n",
    "        return f\"The current local time in {timezone} is: {local_time}\"\n",
    "    except Exception as e:\n",
    "        return f\"Error fetching time for timezone '{timezone}':{str(e)}\""
   ]
  },
  {
   "cell_type": "code",
   "execution_count": 1,
   "id": "e21e47e3",
   "metadata": {},
   "outputs": [
    {
     "ename": "NameError",
     "evalue": "name 'FinalAnswerTool' is not defined",
     "output_type": "error",
     "traceback": [
      "\u001b[31m---------------------------------------------------------------------------\u001b[39m",
      "\u001b[31mNameError\u001b[39m                                 Traceback (most recent call last)",
      "\u001b[36mCell\u001b[39m\u001b[36m \u001b[39m\u001b[32mIn[1]\u001b[39m\u001b[32m, line 1\u001b[39m\n\u001b[32m----> \u001b[39m\u001b[32m1\u001b[39m final_answer = \u001b[43mFinalAnswerTool\u001b[49m()\n\u001b[32m      2\u001b[39m model = InferenceClientModel(\n\u001b[32m      3\u001b[39m     max_tokens=\u001b[32m2096\u001b[39m,\n\u001b[32m      4\u001b[39m     temperature=\u001b[32m0.5\u001b[39m,\n\u001b[32m      5\u001b[39m     model_id=\u001b[33m'\u001b[39m\u001b[33mQwen/Qwen2.5-Coder-32B-Instruct\u001b[39m\u001b[33m'\u001b[39m,\n\u001b[32m      6\u001b[39m     custom_role_conversions=\u001b[38;5;28;01mNone\u001b[39;00m,\n\u001b[32m      7\u001b[39m )\n\u001b[32m      9\u001b[39m image_generation_tool = load_tool(\u001b[33m\"\u001b[39m\u001b[33magents-course/text-to-image\u001b[39m\u001b[33m\"\u001b[39m, trust_remote_code=\u001b[38;5;28;01mTrue\u001b[39;00m)\n",
      "\u001b[31mNameError\u001b[39m: name 'FinalAnswerTool' is not defined"
     ]
    }
   ],
   "source": [
    "final_answer = FinalAnswerTool()\n",
    "model = InferenceClientModel(\n",
    "    max_tokens=2096,\n",
    "    temperature=0.5,\n",
    "    model_id='Qwen/Qwen2.5-Coder-32B-Instruct',\n",
    "    custom_role_conversions=None,\n",
    ")\n",
    "\n",
    "image_generation_tool = load_tool(\"agents-course/text-to-image\", trust_remote_code=True)\n",
    "with open(\"prompts.yaml\",'r') as stream:\n",
    "    prompt_templates=yaml.safe_load(stream)\n",
    "agent= CodeAgent(\n",
    "    \n",
    "    model=model,\n",
    "    tools=[final_answer],\n",
    "    max_steps=6,\n",
    "    verbosity_level=1,\n",
    "    grammar=None,\n",
    "    planning_interval=None,\n",
    "    name=None,\n",
    "    description=None,\n",
    "    prompt_templates= prompt_templates\n",
    ")\n",
    "from Gradio_UI import GradioUI\n",
    "GradioUI(agent).launch()"
   ]
  },
  {
   "cell_type": "code",
   "execution_count": null,
   "id": "81eb7459",
   "metadata": {},
   "outputs": [],
   "source": []
  }
 ],
 "metadata": {
  "kernelspec": {
   "display_name": ".venv",
   "language": "python",
   "name": "python3"
  },
  "language_info": {
   "codemirror_mode": {
    "name": "ipython",
    "version": 3
   },
   "file_extension": ".py",
   "mimetype": "text/x-python",
   "name": "python",
   "nbconvert_exporter": "python",
   "pygments_lexer": "ipython3",
   "version": "3.11.5"
  }
 },
 "nbformat": 4,
 "nbformat_minor": 5
}
