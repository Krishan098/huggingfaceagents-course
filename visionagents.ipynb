{
 "cells": [
  {
   "cell_type": "markdown",
   "id": "d4e91f1e",
   "metadata": {},
   "source": [
    "# Vision Agents with smolagents\n"
   ]
  }
 ],
 "metadata": {
  "language_info": {
   "name": "python"
  }
 },
 "nbformat": 4,
 "nbformat_minor": 5
}
